{
 "nbformat": 4,
 "nbformat_minor": 2,
 "metadata": {
  "language_info": {
   "name": "python",
   "codemirror_mode": {
    "name": "ipython",
    "version": 3
   },
   "version": "3.7.3-final"
  },
  "orig_nbformat": 2,
  "file_extension": ".py",
  "mimetype": "text/x-python",
  "name": "python",
  "npconvert_exporter": "python",
  "pygments_lexer": "ipython3",
  "version": 3,
  "kernelspec": {
   "name": "python37364bitvirtualenv700e7fec8e5642ca925b98077db77a01",
   "display_name": "Python 3.7.3 64-bit (virtualenv)"
  }
 },
 "cells": [
  {
   "cell_type": "code",
   "execution_count": null,
   "metadata": {},
   "outputs": [],
   "source": [
    "import rtc_tools\n",
    "backlog = rtc_tools.getBacklogFromFile(\"C:\\\\Users\\\\ories\\\\Projects\\\\sample_data\\\\Sample Backlog.xlsx\")\n",
    "print(backlog)\n",
    "backlog_size = rtc_tools.populateTotalPoints(backlog)\n",
    "print(f\"Total backlog size: {backlog_size} Points\")\n",
    "\n",
    "# Get all work items that don't have parents\n",
    "top_items = backlog.loc[backlog['Parent ID'] == 0]\n",
    "for idx in top_items.index:\n",
    "    print(f\"Total size of {backlog.loc[idx, 'Description']}: {backlog.loc[idx, 'Total Story Points']}\")"
   ]
  },
  {
   "cell_type": "code",
   "execution_count": null,
   "metadata": {},
   "outputs": [],
   "source": [
    "del backlog\n",
    "backlog = rtc_tools.getBacklogFromFile(\"C:\\\\Users\\\\ories\\\\Projects\\\\sample_data\\\\Sample Backlog.xlsx\")\n",
    "\n",
    "print(f\"Total size of {backlog.loc[1, 'Description']}: {rtc_tools.populateTotalPoints(backlog, backlog.loc[1])}\")\n",
    "print(backlog)"
   ]
  },
  {
   "cell_type": "code",
   "execution_count": null,
   "metadata": {},
   "outputs": [],
   "source": []
  }
 ]
}